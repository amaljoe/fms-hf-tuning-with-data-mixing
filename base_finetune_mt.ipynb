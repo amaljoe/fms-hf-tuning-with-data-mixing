{
 "cells": [
  {
   "cell_type": "code",
   "id": "initial_id",
   "metadata": {
    "collapsed": true,
    "ExecuteTime": {
     "end_time": "2025-03-08T18:54:59.664563Z",
     "start_time": "2025-03-08T18:54:54.021013Z"
    }
   },
   "source": [
    "from datasets import Dataset, DatasetDict\n",
    "from transformers import AutoModelForCausalLM, AutoTokenizer, AutoModelForSeq2SeqLM\n",
    "import torch\n",
    "\n",
    "model_path=\"base_models/granite-3.2-2b-instruct\"\n",
    "device= \"cuda\" if torch.cuda.is_available() else (\"mps\" if torch.backends.mps.is_available() else \"cpu\")\n",
    "model = AutoModelForCausalLM.from_pretrained(\n",
    "    model_path,\n",
    "    device_map=device,\n",
    "    torch_dtype=torch.bfloat16,\n",
    ")\n",
    "tokenizer = AutoTokenizer.from_pretrained(\n",
    "    model_path\n",
    ")"
   ],
   "outputs": [
    {
     "data": {
      "text/plain": [
       "Loading checkpoint shards:   0%|          | 0/2 [00:00<?, ?it/s]"
      ],
      "application/vnd.jupyter.widget-view+json": {
       "version_major": 2,
       "version_minor": 0,
       "model_id": "9f699a9e81d7452ba364f6e2c1367a63"
      }
     },
     "metadata": {},
     "output_type": "display_data"
    }
   ],
   "execution_count": 2
  },
  {
   "metadata": {
    "ExecuteTime": {
     "end_time": "2025-03-08T18:54:51.235304Z",
     "start_time": "2025-03-08T18:54:51.067274Z"
    }
   },
   "cell_type": "code",
   "source": "tokenizer(\"input\", \"input\", \"input\", \"inputs\", return_tensors=\"pt\")",
   "id": "fdec98e789dbb275",
   "outputs": [
    {
     "ename": "NameError",
     "evalue": "name 'tokenizer' is not defined",
     "output_type": "error",
     "traceback": [
      "\u001B[0;31m---------------------------------------------------------------------------\u001B[0m",
      "\u001B[0;31mNameError\u001B[0m                                 Traceback (most recent call last)",
      "Cell \u001B[0;32mIn[1], line 1\u001B[0m\n\u001B[0;32m----> 1\u001B[0m tokenizer(\u001B[38;5;124m\"\u001B[39m\u001B[38;5;124minput\u001B[39m\u001B[38;5;124m\"\u001B[39m, \u001B[38;5;124m\"\u001B[39m\u001B[38;5;124minput\u001B[39m\u001B[38;5;124m\"\u001B[39m, \u001B[38;5;124m\"\u001B[39m\u001B[38;5;124minput\u001B[39m\u001B[38;5;124m\"\u001B[39m, \u001B[38;5;124m\"\u001B[39m\u001B[38;5;124minputs\u001B[39m\u001B[38;5;124m\"\u001B[39m, return_tensors\u001B[38;5;241m=\u001B[39m\u001B[38;5;124m\"\u001B[39m\u001B[38;5;124mpt\u001B[39m\u001B[38;5;124m\"\u001B[39m)\n",
      "\u001B[0;31mNameError\u001B[0m: name 'tokenizer' is not defined"
     ]
    }
   ],
   "execution_count": 1
  },
  {
   "metadata": {},
   "cell_type": "code",
   "outputs": [],
   "execution_count": null,
   "source": "",
   "id": "67a8c0b1b01bb92d"
  },
  {
   "metadata": {
    "ExecuteTime": {
     "end_time": "2025-03-08T18:55:00.496411Z",
     "start_time": "2025-03-08T18:55:00.196938Z"
    }
   },
   "cell_type": "code",
   "source": [
    "from datasets import Dataset, DatasetDict\n",
    "\n",
    "with open(\"data/coco.ml.txt\") as f:\n",
    "    ml = f.readlines()\n",
    "\n",
    "with open(\"data/coco.en.txt\") as f:\n",
    "    eng = f.readlines()\n",
    "\n",
    "def get_dataset(ml, eng):\n",
    "    ml = [sen.strip() for sen in ml]\n",
    "    eng = [sen.strip() for sen in eng]\n",
    "    return [{\"ml\": ml, \"eng\": eng, \"content\": f'Translate to english:<|end_of_text|>{ml}<|end_of_text|>{eng}<|end_of_text|>'} for ml, eng in zip(ml, eng)]\n",
    "\n",
    "n = 100\n",
    "dataset = get_dataset(ml, eng)\n",
    "train_dataset = Dataset.from_list(dataset[:n // 10 * 8])\n",
    "valid_dataset = Dataset.from_list(dataset[n // 10 * 8:n])\n",
    "dataset = DatasetDict({\"train\": train_dataset, \"validation\": valid_dataset})\n",
    "dataset"
   ],
   "id": "f508b0757560a4d6",
   "outputs": [
    {
     "data": {
      "text/plain": [
       "DatasetDict({\n",
       "    train: Dataset({\n",
       "        features: ['ml', 'eng', 'content'],\n",
       "        num_rows: 80\n",
       "    })\n",
       "    validation: Dataset({\n",
       "        features: ['ml', 'eng', 'content'],\n",
       "        num_rows: 20\n",
       "    })\n",
       "})"
      ]
     },
     "execution_count": 3,
     "metadata": {},
     "output_type": "execute_result"
    }
   ],
   "execution_count": 3
  },
  {
   "metadata": {
    "ExecuteTime": {
     "end_time": "2025-03-08T18:55:03.271396Z",
     "start_time": "2025-03-08T18:55:03.189739Z"
    }
   },
   "cell_type": "code",
   "source": [
    "from transformers import Trainer, TrainingArguments\n",
    "args = TrainingArguments(\"ml_to_en\")\n",
    "\n",
    "def tokenize_function(examples):\n",
    "    tokenized_inputs = tokenizer(examples[\"content\"], padding=True, truncation=True, return_tensors=\"pt\")\n",
    "    tokenized_inputs[\"labels\"] = tokenized_inputs[\"input_ids\"].clone()\n",
    "    return tokenized_inputs\n",
    "\n",
    "tokenized_datasets = dataset.map(tokenize_function, batched=True)\n",
    "tokenized_datasets"
   ],
   "id": "30d28654e4927ad4",
   "outputs": [
    {
     "data": {
      "text/plain": [
       "Map:   0%|          | 0/80 [00:00<?, ? examples/s]"
      ],
      "application/vnd.jupyter.widget-view+json": {
       "version_major": 2,
       "version_minor": 0,
       "model_id": "b6017c7229654c939019216cf9d647ea"
      }
     },
     "metadata": {},
     "output_type": "display_data"
    },
    {
     "data": {
      "text/plain": [
       "Map:   0%|          | 0/20 [00:00<?, ? examples/s]"
      ],
      "application/vnd.jupyter.widget-view+json": {
       "version_major": 2,
       "version_minor": 0,
       "model_id": "70c1497c44e9416a98bbb5b3ea476c65"
      }
     },
     "metadata": {},
     "output_type": "display_data"
    },
    {
     "data": {
      "text/plain": [
       "DatasetDict({\n",
       "    train: Dataset({\n",
       "        features: ['ml', 'eng', 'content', 'input_ids', 'attention_mask', 'labels'],\n",
       "        num_rows: 80\n",
       "    })\n",
       "    validation: Dataset({\n",
       "        features: ['ml', 'eng', 'content', 'input_ids', 'attention_mask', 'labels'],\n",
       "        num_rows: 20\n",
       "    })\n",
       "})"
      ]
     },
     "execution_count": 4,
     "metadata": {},
     "output_type": "execute_result"
    }
   ],
   "execution_count": 4
  },
  {
   "metadata": {
    "ExecuteTime": {
     "end_time": "2025-03-08T18:55:08.596151Z",
     "start_time": "2025-03-08T18:55:04.663706Z"
    }
   },
   "cell_type": "code",
   "source": [
    "from transformers import TrainingArguments\n",
    "\n",
    "training_args = TrainingArguments(\"test-trainer\")\n",
    "\n",
    "from transformers import Trainer\n",
    "\n",
    "trainer = Trainer(\n",
    "    model,\n",
    "    training_args,\n",
    "    train_dataset=tokenized_datasets[\"train\"],\n",
    "    eval_dataset=tokenized_datasets[\"validation\"],\n",
    "    tokenizer=tokenizer,\n",
    ")\n",
    "\n",
    "trainer.train()"
   ],
   "id": "3f67fafc6fe2679d",
   "outputs": [
    {
     "name": "stderr",
     "output_type": "stream",
     "text": [
      "\n",
      "KeyboardInterrupt\n",
      "\n"
     ]
    }
   ],
   "execution_count": 5
  },
  {
   "metadata": {
    "ExecuteTime": {
     "end_time": "2025-03-08T18:55:15.051154Z",
     "start_time": "2025-03-08T18:55:10.916566Z"
    }
   },
   "cell_type": "code",
   "source": "trainer.predict(tokenized_datasets['validation'])[0]",
   "id": "31c0898856dc504",
   "outputs": [
    {
     "data": {
      "text/plain": [
       "<IPython.core.display.HTML object>"
      ],
      "text/html": [
       "\n",
       "    <div>\n",
       "      \n",
       "      <progress value='None' max='30' style='width:300px; height:20px; vertical-align: middle;'></progress>\n",
       "      None\n",
       "    </div>\n",
       "    <table border=\"1\" class=\"dataframe\">\n",
       "  <thead>\n",
       " <tr style=\"text-align: left;\">\n",
       "      <th>Step</th>\n",
       "      <th>Training Loss</th>\n",
       "    </tr>\n",
       "  </thead>\n",
       "  <tbody>\n",
       "  </tbody>\n",
       "</table><p>\n",
       "    <div>\n",
       "      \n",
       "      <progress value='3' max='3' style='width:300px; height:20px; vertical-align: middle;'></progress>\n",
       "      [3/3 00:01]\n",
       "    </div>\n",
       "    "
      ]
     },
     "metadata": {},
     "output_type": "display_data"
    },
    {
     "data": {
      "text/plain": [
       "array([[[ -5.53125   , -15.375     , -15.375     , ...,  -6.40625   ,\n",
       "          -5.34375   ,  -6.75      ],\n",
       "        [  5.3125    ,  -3.59375   ,  -3.59375   , ...,  -0.39453125,\n",
       "          -0.2578125 ,  -0.6953125 ],\n",
       "        [  9.125     ,  -5.15625   ,  -5.15625   , ...,   0.16210938,\n",
       "           0.87890625,  -0.90234375],\n",
       "        ...,\n",
       "        [ 18.        ,  -4.6875    ,  -4.6875    , ...,  -0.08984375,\n",
       "           0.63671875,  -0.39453125],\n",
       "        [ 16.875     ,  -5.6875    ,  -5.6875    , ...,  -0.54296875,\n",
       "          -0.05981445,  -0.875     ],\n",
       "        [ 16.375     ,  -4.8125    ,  -4.8125    , ...,  -0.37890625,\n",
       "          -0.03112793,  -0.60546875]],\n",
       "\n",
       "       [[ -5.53125   , -15.375     , -15.375     , ...,  -6.40625   ,\n",
       "          -5.34375   ,  -6.75      ],\n",
       "        [  5.3125    ,  -3.59375   ,  -3.59375   , ...,  -0.39453125,\n",
       "          -0.2578125 ,  -0.6953125 ],\n",
       "        [  9.125     ,  -5.15625   ,  -5.15625   , ...,   0.16210938,\n",
       "           0.87890625,  -0.90234375],\n",
       "        ...,\n",
       "        [ 17.75      ,  -5.6875    ,  -5.6875    , ...,  -0.50390625,\n",
       "           0.18554688,  -0.96484375],\n",
       "        [ 17.375     ,  -5.34375   ,  -5.34375   , ...,  -0.44140625,\n",
       "           0.26171875,  -0.90234375],\n",
       "        [ 15.375     ,  -6.53125   ,  -6.53125   , ...,  -0.83203125,\n",
       "          -0.4609375 ,  -1.3515625 ]],\n",
       "\n",
       "       [[ -5.53125   , -15.375     , -15.375     , ...,  -6.40625   ,\n",
       "          -5.34375   ,  -6.75      ],\n",
       "        [  5.3125    ,  -3.59375   ,  -3.59375   , ...,  -0.39453125,\n",
       "          -0.2578125 ,  -0.6953125 ],\n",
       "        [  9.125     ,  -5.15625   ,  -5.15625   , ...,   0.16210938,\n",
       "           0.87890625,  -0.90234375],\n",
       "        ...,\n",
       "        [ 14.3125    ,  -5.59375   ,  -5.59375   , ...,  -1.1875    ,\n",
       "          -0.57421875,  -1.375     ],\n",
       "        [ 16.875     ,  -4.90625   ,  -4.90625   , ...,  -0.65234375,\n",
       "           0.07958984,  -0.91796875],\n",
       "        [ 15.25      ,  -4.46875   ,  -4.46875   , ...,  -0.34765625,\n",
       "           0.08154297,  -0.703125  ]],\n",
       "\n",
       "       ...,\n",
       "\n",
       "       [[ -5.53125   , -15.375     , -15.375     , ...,  -6.40625   ,\n",
       "          -5.34375   ,  -6.75      ],\n",
       "        [  5.3125    ,  -3.59375   ,  -3.59375   , ...,  -0.39453125,\n",
       "          -0.2578125 ,  -0.6953125 ],\n",
       "        [  9.125     ,  -5.15625   ,  -5.15625   , ...,   0.16210938,\n",
       "           0.87890625,  -0.90234375],\n",
       "        ...,\n",
       "        [ 16.625     ,  -4.625     ,  -4.625     , ...,  -0.24316406,\n",
       "           0.03149414,  -0.71875   ],\n",
       "        [ 16.        ,  -5.03125   ,  -5.03125   , ...,  -0.6171875 ,\n",
       "          -0.04541016,  -0.84375   ],\n",
       "        [ 16.875     ,  -4.625     ,  -4.625     , ...,  -0.20117188,\n",
       "           0.31835938,  -0.64453125]],\n",
       "\n",
       "       [[ -5.53125   , -15.375     , -15.375     , ...,  -6.40625   ,\n",
       "          -5.34375   ,  -6.75      ],\n",
       "        [  5.3125    ,  -3.59375   ,  -3.59375   , ...,  -0.39453125,\n",
       "          -0.2578125 ,  -0.6953125 ],\n",
       "        [  9.125     ,  -5.15625   ,  -5.15625   , ...,   0.16210938,\n",
       "           0.87890625,  -0.90234375],\n",
       "        ...,\n",
       "        [ 18.375     ,  -5.15625   ,  -5.15625   , ...,  -0.24121094,\n",
       "           0.36523438,  -0.4453125 ],\n",
       "        [ 15.3125    ,  -4.65625   ,  -4.65625   , ...,  -0.57421875,\n",
       "          -0.22460938,  -0.78125   ],\n",
       "        [ 16.75      ,  -4.46875   ,  -4.46875   , ...,  -0.41015625,\n",
       "           0.14746094,  -0.57421875]],\n",
       "\n",
       "       [[ -5.53125   , -15.375     , -15.375     , ...,  -6.40625   ,\n",
       "          -5.34375   ,  -6.75      ],\n",
       "        [  5.3125    ,  -3.59375   ,  -3.59375   , ...,  -0.39453125,\n",
       "          -0.2578125 ,  -0.6953125 ],\n",
       "        [  9.125     ,  -5.15625   ,  -5.15625   , ...,   0.16210938,\n",
       "           0.87890625,  -0.90234375],\n",
       "        ...,\n",
       "        [ 15.5       ,  -5.78125   ,  -5.78125   , ...,  -0.5625    ,\n",
       "          -0.5       ,  -0.87890625],\n",
       "        [ 14.625     ,  -5.71875   ,  -5.71875   , ...,  -0.96484375,\n",
       "          -0.86328125,  -1.21875   ],\n",
       "        [ 14.25      ,  -5.6875    ,  -5.6875    , ...,  -1.078125  ,\n",
       "          -1.0234375 ,  -1.2109375 ]]], dtype=float32)"
      ]
     },
     "execution_count": 6,
     "metadata": {},
     "output_type": "execute_result"
    }
   ],
   "execution_count": 6
  },
  {
   "metadata": {
    "ExecuteTime": {
     "end_time": "2025-03-08T19:04:09.788317Z",
     "start_time": "2025-03-08T19:04:04.903020Z"
    }
   },
   "cell_type": "code",
   "source": "pred = trainer.predict(tokenized_datasets['validation'])",
   "id": "f778bc6ae0a8771c",
   "outputs": [],
   "execution_count": 8
  },
  {
   "metadata": {
    "ExecuteTime": {
     "end_time": "2025-03-08T19:09:19.552454Z",
     "start_time": "2025-03-08T19:09:19.550270Z"
    }
   },
   "cell_type": "code",
   "source": "type(pred.predictions)",
   "id": "63402cfacf67c1b7",
   "outputs": [
    {
     "data": {
      "text/plain": [
       "numpy.ndarray"
      ]
     },
     "execution_count": 30,
     "metadata": {},
     "output_type": "execute_result"
    }
   ],
   "execution_count": 30
  },
  {
   "metadata": {
    "ExecuteTime": {
     "end_time": "2025-03-08T19:10:55.080395Z",
     "start_time": "2025-03-08T19:10:54.919530Z"
    }
   },
   "cell_type": "code",
   "source": [
    "from nltk import bleu_score\n",
    "import numpy as np\n",
    "\n",
    "def compute_metrics(pred):\n",
    "    labels_ids = pred.label_ids\n",
    "    pred_ids = np.argmax(pred.predictions, axis=-1)\n",
    "    pred_str = tokenizer.batch_decode(pred_ids, skip_special_tokens=True)\n",
    "    # labels_ids[labels_ids == -100] = tokenizer.pad_token_id\n",
    "    label_str = tokenizer.batch_decode(labels_ids, skip_special_tokens=True)\n",
    "    bleu = bleu_score.corpus_bleu(label_str, pred_str, smoothing_function=bleu_score.SmoothingFunction().method7)\n",
    "    return {\"bleu\": bleu}\n",
    "\n",
    "compute_metrics(pred)"
   ],
   "id": "727e015a906e3e6a",
   "outputs": [
    {
     "name": "stdout",
     "output_type": "stream",
     "text": [
      "(20, 144) (20, 144)\n"
     ]
    },
    {
     "data": {
      "text/plain": [
       "{'bleu': 0.09299390537329787}"
      ]
     },
     "execution_count": 35,
     "metadata": {},
     "output_type": "execute_result"
    }
   ],
   "execution_count": 35
  }
 ],
 "metadata": {
  "kernelspec": {
   "display_name": "Python 3",
   "language": "python",
   "name": "python3"
  },
  "language_info": {
   "codemirror_mode": {
    "name": "ipython",
    "version": 2
   },
   "file_extension": ".py",
   "mimetype": "text/x-python",
   "name": "python",
   "nbconvert_exporter": "python",
   "pygments_lexer": "ipython2",
   "version": "2.7.6"
  }
 },
 "nbformat": 4,
 "nbformat_minor": 5
}
