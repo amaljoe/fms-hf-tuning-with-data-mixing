{
 "cells": [
  {
   "metadata": {},
   "cell_type": "code",
   "outputs": [],
   "execution_count": null,
   "source": [
    "from transformers import AutoModelForCausalLM, AutoTokenizer, set_seed\n",
    "import torch\n",
    "\n",
    "model_path=\"ibm-granite/granite-3.2-2b-instruct\"\n",
    "device= \"cuda\" if torch.cuda.is_available() else (\"mps\" if torch.mps.is_available() else \"cpu\")\n",
    "model = AutoModelForCausalLM.from_pretrained(\n",
    "    model_path,\n",
    "    device_map=device,\n",
    "    torch_dtype=torch.bfloat16,\n",
    ")\n",
    "tokenizer = AutoTokenizer.from_pretrained(\n",
    "    model_path\n",
    ")"
   ],
   "id": "fad730d1f2c7246b"
  },
  {
   "metadata": {
    "ExecuteTime": {
     "end_time": "2025-03-03T18:38:08.561316Z",
     "start_time": "2025-03-03T18:38:06.067747Z"
    }
   },
   "cell_type": "code",
   "source": [
    "conv = [{\"role\": \"user\", \"content\":\"Translate to english: ഒരു പശുവിന്റെ മുന്നിലുള്ള വയലിൽ ബുദ്ധന്റെ പ്രതിമ.\"}]\n",
    "\n",
    "input_ids = tokenizer.apply_chat_template(conv, return_tensors=\"pt\", thinking=False, return_dict=True, add_generation_prompt=True).to(device)\n",
    "set_seed(42)\n",
    "output = model.generate(\n",
    "    **input_ids,\n",
    "    max_new_tokens=8192,\n",
    ")\n",
    "\n",
    "prediction = tokenizer.decode(output[0, input_ids[\"input_ids\"].shape[1]:], skip_special_tokens=True)\n",
    "print(prediction)"
   ],
   "id": "123550f02640db5",
   "outputs": [
    {
     "name": "stdout",
     "output_type": "stream",
     "text": [
      "A deer's antler in the beginning of its growth, symbolizing wisdom.\n"
     ]
    }
   ],
   "execution_count": 16
  },
  {
   "metadata": {},
   "cell_type": "code",
   "outputs": [],
   "execution_count": null,
   "source": "",
   "id": "f1701dc45c16e316"
  }
 ],
 "metadata": {
  "kernelspec": {
   "display_name": "Python 3",
   "language": "python",
   "name": "python3"
  },
  "language_info": {
   "codemirror_mode": {
    "name": "ipython",
    "version": 2
   },
   "file_extension": ".py",
   "mimetype": "text/x-python",
   "name": "python",
   "nbconvert_exporter": "python",
   "pygments_lexer": "ipython2",
   "version": "2.7.6"
  }
 },
 "nbformat": 4,
 "nbformat_minor": 5
}
