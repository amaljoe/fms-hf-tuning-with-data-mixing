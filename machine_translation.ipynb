{
 "cells": [
  {
   "metadata": {},
   "cell_type": "code",
   "outputs": [],
   "execution_count": null,
   "source": [
    "from transformers import AutoModelForCausalLM, AutoTokenizer, set_seed\n",
    "import torch\n",
    "\n",
    "model_path=\"ibm-granite/granite-3.2-2b-instruct\"\n",
    "device= \"cuda\" if torch.cuda.is_available() else (\"mps\" if torch.mps.is_available() else \"cpu\")\n",
    "model = AutoModelForCausalLM.from_pretrained(\n",
    "    model_path,\n",
    "    device_map=device,\n",
    "    torch_dtype=torch.bfloat16,\n",
    ")\n",
    "tokenizer = AutoTokenizer.from_pretrained(\n",
    "    model_path\n",
    ")"
   ],
   "id": "fad730d1f2c7246b"
  },
  {
   "metadata": {
    "ExecuteTime": {
     "end_time": "2025-03-03T18:36:00.539214Z",
     "start_time": "2025-03-03T18:36:00.498708Z"
    }
   },
   "cell_type": "code",
   "source": [
    "conv = [{\"role\": \"user\", \"content\":\"Translate to english: ഒരു പശുവിന്റെ മുന്നിലുള്ള വയലിൽ ബുദ്ധന്റെ പ്രതിമ.\"}]\n",
    "\n",
    "input_ids = tokenizer.apply_chat_template(conv, return_tensors=\"pt\", thinking=False, return_dict=True, add_generation_prompt=True).to(device)\n",
    "tokens = [tokenizer.decode(input_id, skip_special_tokens=True) for input_id in input_ids[\"input_ids\"][0]]\n",
    "len(tokens), tokens"
   ],
   "id": "123550f02640db5",
   "outputs": [
    {
     "data": {
      "text/plain": [
       "(131,\n",
       " ['',\n",
       "  'system',\n",
       "  '',\n",
       "  'Knowledge',\n",
       "  ' C',\n",
       "  'utoff',\n",
       "  ' Date',\n",
       "  ':',\n",
       "  ' April',\n",
       "  ' ',\n",
       "  '2',\n",
       "  '0',\n",
       "  '2',\n",
       "  '4',\n",
       "  '.',\n",
       "  '\\n',\n",
       "  'Today',\n",
       "  \"'s\",\n",
       "  ' Date',\n",
       "  ':',\n",
       "  ' March',\n",
       "  ' ',\n",
       "  '0',\n",
       "  '4',\n",
       "  ',',\n",
       "  ' ',\n",
       "  '2',\n",
       "  '0',\n",
       "  '2',\n",
       "  '5',\n",
       "  '.',\n",
       "  '\\n',\n",
       "  'You',\n",
       "  ' are',\n",
       "  ' Gr',\n",
       "  'an',\n",
       "  'ite',\n",
       "  ',',\n",
       "  ' developed',\n",
       "  ' by',\n",
       "  ' IBM',\n",
       "  '.',\n",
       "  ' You',\n",
       "  ' are',\n",
       "  ' a',\n",
       "  ' helpful',\n",
       "  ' AI',\n",
       "  ' assistant',\n",
       "  '.',\n",
       "  '',\n",
       "  '\\n',\n",
       "  '',\n",
       "  'user',\n",
       "  '',\n",
       "  'Translate',\n",
       "  ' to',\n",
       "  ' english',\n",
       "  ':',\n",
       "  ' �',\n",
       "  '�',\n",
       "  '�',\n",
       "  '�',\n",
       "  'ു',\n",
       "  ' �',\n",
       "  '�',\n",
       "  '�',\n",
       "  '�',\n",
       "  'ു',\n",
       "  '�',\n",
       "  '�',\n",
       "  'ി',\n",
       "  'ന',\n",
       "  '്',\n",
       "  '�',\n",
       "  '�',\n",
       "  '�',\n",
       "  '�',\n",
       "  ' �',\n",
       "  '�',\n",
       "  'ു',\n",
       "  'ന',\n",
       "  '്',\n",
       "  'ന',\n",
       "  'ി',\n",
       "  '�',\n",
       "  '�',\n",
       "  'ു',\n",
       "  '�',\n",
       "  '�',\n",
       "  '്',\n",
       "  '�',\n",
       "  '�',\n",
       "  ' �',\n",
       "  '�',\n",
       "  '�',\n",
       "  '�',\n",
       "  '�',\n",
       "  '�',\n",
       "  'ി',\n",
       "  '�',\n",
       "  '�',\n",
       "  ' �',\n",
       "  '�',\n",
       "  'ു',\n",
       "  '�',\n",
       "  '�',\n",
       "  '്',\n",
       "  '�',\n",
       "  '�',\n",
       "  'ന',\n",
       "  '്',\n",
       "  '�',\n",
       "  '�',\n",
       "  '�',\n",
       "  '�',\n",
       "  ' �',\n",
       "  '�',\n",
       "  '്',\n",
       "  '�',\n",
       "  '�',\n",
       "  '�',\n",
       "  '�',\n",
       "  'ി',\n",
       "  '�',\n",
       "  '�',\n",
       "  '.',\n",
       "  '',\n",
       "  '\\n',\n",
       "  '',\n",
       "  'assistant',\n",
       "  ''])"
      ]
     },
     "execution_count": 14,
     "metadata": {},
     "output_type": "execute_result"
    }
   ],
   "execution_count": 14
  },
  {
   "metadata": {
    "ExecuteTime": {
     "end_time": "2025-03-03T18:36:26.045409Z",
     "start_time": "2025-03-03T18:36:23.195836Z"
    }
   },
   "cell_type": "code",
   "source": [
    "set_seed(42)\n",
    "output = model.generate(\n",
    "    **input_ids,\n",
    "    max_new_tokens=8192,\n",
    ")\n",
    "\n",
    "prediction = tokenizer.decode(output[0, input_ids[\"input_ids\"].shape[1]:], skip_special_tokens=True)\n",
    "print(prediction)"
   ],
   "id": "8ef253bcead14e98",
   "outputs": [
    {
     "name": "stdout",
     "output_type": "stream",
     "text": [
      "A deer's antler in the beginning of its growth, symbolizing wisdom.\n"
     ]
    }
   ],
   "execution_count": 15
  },
  {
   "metadata": {},
   "cell_type": "code",
   "outputs": [],
   "execution_count": null,
   "source": "",
   "id": "f1701dc45c16e316"
  }
 ],
 "metadata": {
  "kernelspec": {
   "display_name": "Python 3",
   "language": "python",
   "name": "python3"
  },
  "language_info": {
   "codemirror_mode": {
    "name": "ipython",
    "version": 2
   },
   "file_extension": ".py",
   "mimetype": "text/x-python",
   "name": "python",
   "nbconvert_exporter": "python",
   "pygments_lexer": "ipython2",
   "version": "2.7.6"
  }
 },
 "nbformat": 4,
 "nbformat_minor": 5
}
