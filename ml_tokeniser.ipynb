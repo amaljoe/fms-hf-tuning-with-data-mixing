{
 "cells": [
  {
   "cell_type": "code",
   "id": "initial_id",
   "metadata": {
    "collapsed": true,
    "ExecuteTime": {
     "end_time": "2025-03-08T13:54:51.521151Z",
     "start_time": "2025-03-08T13:54:51.368585Z"
    }
   },
   "source": [
    "with open(\"data/coco.ml.txt\") as f:\n",
    "    lines = f.readlines()\n",
    "    lines = [line.strip() for line in lines]\n",
    "    \n",
    "lines[:5]"
   ],
   "outputs": [
    {
     "data": {
      "text/plain": [
       "['ഒരു വലിയ ചരക്ക് ട്രെയിൻ ഒരു ട്രെയിൻ സ്റ്റേഷനിൽ ഇരിക്കുന്നു.',\n",
       " 'ആളുകൾ ഒരു നദിക്കരയിൽ പതാകകൾ പതിച്ചിട്ടുണ്ട്.',\n",
       " 'ട്രെയിനിൽ നിന്ന് കാണുന്നതുപോലെ ഒരു കൂട്ടം റെയിൽവേ ട്രാക്കുകൾ.',\n",
       " 'ഒരു നദിയിലൂടെ മോട്ടോർ വേഗതയുള്ള ഒരു പീരങ്കി.',\n",
       " 'ശൂന്യമായ സ്ക്വയറിൽ എന്തെങ്കിലും പ്രദർശിപ്പിക്കാൻ ശ്രമിക്കുന്ന ആളുകളുള്ള ഒരു മഞ്ഞ വാൻ.']"
      ]
     },
     "execution_count": 39,
     "metadata": {},
     "output_type": "execute_result"
    }
   ],
   "execution_count": 39
  },
  {
   "metadata": {
    "ExecuteTime": {
     "end_time": "2025-03-08T13:54:55.451239Z",
     "start_time": "2025-03-08T13:54:55.342555Z"
    }
   },
   "cell_type": "code",
   "source": [
    "import numpy as np\n",
    "# remove special characters\n",
    "lines = [line.replace(\".\", \"\").replace(',', \"\").replace('\"', \"\") for line in lines]\n",
    "lines[:5]"
   ],
   "id": "afcd34be791beec6",
   "outputs": [
    {
     "data": {
      "text/plain": [
       "['ഒരു വലിയ ചരക്ക് ട്രെയിൻ ഒരു ട്രെയിൻ സ്റ്റേഷനിൽ ഇരിക്കുന്നു',\n",
       " 'ആളുകൾ ഒരു നദിക്കരയിൽ പതാകകൾ പതിച്ചിട്ടുണ്ട്',\n",
       " 'ട്രെയിനിൽ നിന്ന് കാണുന്നതുപോലെ ഒരു കൂട്ടം റെയിൽവേ ട്രാക്കുകൾ',\n",
       " 'ഒരു നദിയിലൂടെ മോട്ടോർ വേഗതയുള്ള ഒരു പീരങ്കി',\n",
       " 'ശൂന്യമായ സ്ക്വയറിൽ എന്തെങ്കിലും പ്രദർശിപ്പിക്കാൻ ശ്രമിക്കുന്ന ആളുകളുള്ള ഒരു മഞ്ഞ വാൻ']"
      ]
     },
     "execution_count": 40,
     "metadata": {},
     "output_type": "execute_result"
    }
   ],
   "execution_count": 40
  },
  {
   "metadata": {
    "ExecuteTime": {
     "end_time": "2025-03-08T13:56:07.393486Z",
     "start_time": "2025-03-08T13:56:07.088670Z"
    }
   },
   "cell_type": "code",
   "source": [
    "words = []\n",
    "for line in lines:\n",
    "    words.extend(line.split())\n",
    "\n",
    "c_start = len(words)\n",
    "words = list(set(words))\n",
    "c_dedup = len(words)\n",
    "print(\"Unique words:\", c_dedup, \"Reduction %:\", (c_start - c_dedup)/c_start)"
   ],
   "id": "8d52133e0f7742e2",
   "outputs": [
    {
     "name": "stdout",
     "output_type": "stream",
     "text": [
      "Unique words: 69905 Reduction %: 0.9720851426111583\n"
     ]
    }
   ],
   "execution_count": 46
  },
  {
   "metadata": {
    "ExecuteTime": {
     "end_time": "2025-03-08T14:16:06.300974Z",
     "start_time": "2025-03-08T14:16:06.285139Z"
    }
   },
   "cell_type": "code",
   "source": [
    "# remove end of word half spaces\n",
    "words = [word[:-1] if word[-1] == '\\u200c' else word for word in words]\n",
    "words = list(set(words))\n",
    "c_half_space = len(words)\n",
    "print(\"Unique words:\", c_half_space, \"Reduction %:\", (c_dedup - c_half_space)/c_dedup)\n",
    "words[:5]"
   ],
   "id": "ffe8e0bf3bc53af3",
   "outputs": [
    {
     "name": "stdout",
     "output_type": "stream",
     "text": [
      "Unique words: 69054 Reduction %: 0.012173664258636722\n"
     ]
    },
    {
     "data": {
      "text/plain": [
       "['മീൻപിടുത്തത്തിൽ', 'തയ്യാറായതുമാണെന്ന്', 'ഫാം', 'മോഡലുകളും', 'കൊക്കോയിൽ']"
      ]
     },
     "execution_count": 90,
     "metadata": {},
     "output_type": "execute_result"
    }
   ],
   "execution_count": 90
  },
  {
   "metadata": {
    "ExecuteTime": {
     "end_time": "2025-03-08T14:14:25.490349Z",
     "start_time": "2025-03-08T14:14:25.459175Z"
    }
   },
   "cell_type": "code",
   "source": [
    "suffix = {}\n",
    "n = 4\n",
    "for word in words:\n",
    "    if len(word) < n:\n",
    "        continue\n",
    "    suffix[word[-n:]] = suffix.get(word[-n:], 0) + 1\n",
    "top_suffix = sorted(suffix.items(), key=lambda x: x[1], reverse=True)[:20]\n",
    "import pandas as pd\n",
    "pd.DataFrame(top_suffix, columns=[\"Suffix\", \"Count\"])"
   ],
   "id": "fadd07043841cf9a",
   "outputs": [
    {
     "data": {
      "text/plain": [
       "   Suffix  Count\n",
       "0    ുള്ള   5857\n",
       "1    ക്ക്   2655\n",
       "2    മായി   1925\n",
       "3    ന്റെ   1795\n",
       "4    ണ്ട്   1559\n",
       "5    ന്നു   1555\n",
       "6    െയും   1443\n",
       "7    കളും   1148\n",
       "8    ുന്ന   1083\n",
       "9    ിലും   1040\n",
       "10   ലൂടെ    921\n",
       "11   പ്പം    911\n",
       "12   ളുടെ    852\n",
       "13   ത്ത്    840\n",
       "14   ലാണ്    830\n",
       "15   കളിൽ    712\n",
       "16   ്കും    706\n",
       "17   യുടെ    675\n",
       "18   നായി    634\n",
       "19   തായി    588"
      ],
      "text/html": [
       "<div>\n",
       "<style scoped>\n",
       "    .dataframe tbody tr th:only-of-type {\n",
       "        vertical-align: middle;\n",
       "    }\n",
       "\n",
       "    .dataframe tbody tr th {\n",
       "        vertical-align: top;\n",
       "    }\n",
       "\n",
       "    .dataframe thead th {\n",
       "        text-align: right;\n",
       "    }\n",
       "</style>\n",
       "<table border=\"1\" class=\"dataframe\">\n",
       "  <thead>\n",
       "    <tr style=\"text-align: right;\">\n",
       "      <th></th>\n",
       "      <th>Suffix</th>\n",
       "      <th>Count</th>\n",
       "    </tr>\n",
       "  </thead>\n",
       "  <tbody>\n",
       "    <tr>\n",
       "      <th>0</th>\n",
       "      <td>ുള്ള</td>\n",
       "      <td>5857</td>\n",
       "    </tr>\n",
       "    <tr>\n",
       "      <th>1</th>\n",
       "      <td>ക്ക്</td>\n",
       "      <td>2655</td>\n",
       "    </tr>\n",
       "    <tr>\n",
       "      <th>2</th>\n",
       "      <td>മായി</td>\n",
       "      <td>1925</td>\n",
       "    </tr>\n",
       "    <tr>\n",
       "      <th>3</th>\n",
       "      <td>ന്റെ</td>\n",
       "      <td>1795</td>\n",
       "    </tr>\n",
       "    <tr>\n",
       "      <th>4</th>\n",
       "      <td>ണ്ട്</td>\n",
       "      <td>1559</td>\n",
       "    </tr>\n",
       "    <tr>\n",
       "      <th>5</th>\n",
       "      <td>ന്നു</td>\n",
       "      <td>1555</td>\n",
       "    </tr>\n",
       "    <tr>\n",
       "      <th>6</th>\n",
       "      <td>െയും</td>\n",
       "      <td>1443</td>\n",
       "    </tr>\n",
       "    <tr>\n",
       "      <th>7</th>\n",
       "      <td>കളും</td>\n",
       "      <td>1148</td>\n",
       "    </tr>\n",
       "    <tr>\n",
       "      <th>8</th>\n",
       "      <td>ുന്ന</td>\n",
       "      <td>1083</td>\n",
       "    </tr>\n",
       "    <tr>\n",
       "      <th>9</th>\n",
       "      <td>ിലും</td>\n",
       "      <td>1040</td>\n",
       "    </tr>\n",
       "    <tr>\n",
       "      <th>10</th>\n",
       "      <td>ലൂടെ</td>\n",
       "      <td>921</td>\n",
       "    </tr>\n",
       "    <tr>\n",
       "      <th>11</th>\n",
       "      <td>പ്പം</td>\n",
       "      <td>911</td>\n",
       "    </tr>\n",
       "    <tr>\n",
       "      <th>12</th>\n",
       "      <td>ളുടെ</td>\n",
       "      <td>852</td>\n",
       "    </tr>\n",
       "    <tr>\n",
       "      <th>13</th>\n",
       "      <td>ത്ത്</td>\n",
       "      <td>840</td>\n",
       "    </tr>\n",
       "    <tr>\n",
       "      <th>14</th>\n",
       "      <td>ലാണ്</td>\n",
       "      <td>830</td>\n",
       "    </tr>\n",
       "    <tr>\n",
       "      <th>15</th>\n",
       "      <td>കളിൽ</td>\n",
       "      <td>712</td>\n",
       "    </tr>\n",
       "    <tr>\n",
       "      <th>16</th>\n",
       "      <td>്കും</td>\n",
       "      <td>706</td>\n",
       "    </tr>\n",
       "    <tr>\n",
       "      <th>17</th>\n",
       "      <td>യുടെ</td>\n",
       "      <td>675</td>\n",
       "    </tr>\n",
       "    <tr>\n",
       "      <th>18</th>\n",
       "      <td>നായി</td>\n",
       "      <td>634</td>\n",
       "    </tr>\n",
       "    <tr>\n",
       "      <th>19</th>\n",
       "      <td>തായി</td>\n",
       "      <td>588</td>\n",
       "    </tr>\n",
       "  </tbody>\n",
       "</table>\n",
       "</div>"
      ]
     },
     "execution_count": 89,
     "metadata": {},
     "output_type": "execute_result"
    }
   ],
   "execution_count": 89
  },
  {
   "metadata": {
    "ExecuteTime": {
     "end_time": "2025-03-08T14:21:03.836141Z",
     "start_time": "2025-03-08T14:21:03.833609Z"
    }
   },
   "cell_type": "code",
   "source": "print('')",
   "id": "c31e97baed0f69be",
   "outputs": [
    {
     "name": "stdout",
     "output_type": "stream",
     "text": [
      "s23: സ്ക്‌രീന ് ‍ പരമാവധി വലുപ ് പത ് തില ് ‍\n"
     ]
    }
   ],
   "execution_count": 95
  }
 ],
 "metadata": {
  "kernelspec": {
   "display_name": "Python 3",
   "language": "python",
   "name": "python3"
  },
  "language_info": {
   "codemirror_mode": {
    "name": "ipython",
    "version": 2
   },
   "file_extension": ".py",
   "mimetype": "text/x-python",
   "name": "python",
   "nbconvert_exporter": "python",
   "pygments_lexer": "ipython2",
   "version": "2.7.6"
  }
 },
 "nbformat": 4,
 "nbformat_minor": 5
}
